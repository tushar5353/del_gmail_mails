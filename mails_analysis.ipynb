{
 "cells": [
  {
   "cell_type": "markdown",
   "id": "9756ab3d",
   "metadata": {},
   "source": [
    "##### All the Imports required for the script"
   ]
  },
  {
   "cell_type": "code",
   "execution_count": null,
   "id": "9fb629f9",
   "metadata": {},
   "outputs": [],
   "source": [
    "import os\n",
    "import glob\n",
    "import re\n",
    "import numpy as np\n",
    "import pandas as pd\n",
    "import matplotlib.pyplot as plt"
   ]
  },
  {
   "cell_type": "markdown",
   "id": "068ef3d3",
   "metadata": {},
   "source": [
    "##### Reading all the files and putting them together as a single dataframe"
   ]
  },
  {
   "cell_type": "code",
   "execution_count": null,
   "id": "a44207fa",
   "metadata": {},
   "outputs": [],
   "source": [
    "path = '/home/mails_info' # use your path\n",
    "all_files = glob.glob(os.path.join(path , \"*.csv\"))\n",
    "li = []\n",
    "\n",
    "for filename in all_files:\n",
    "    df = pd.read_csv(filename, index_col=None, header=0)\n",
    "    li.append(df)\n",
    "\n",
    "frame = pd.concat(li, axis=0, ignore_index=True)"
   ]
  },
  {
   "cell_type": "code",
   "execution_count": null,
   "id": "661fd797",
   "metadata": {},
   "outputs": [],
   "source": [
    "frame.columns"
   ]
  },
  {
   "cell_type": "code",
   "execution_count": null,
   "id": "af4a0743",
   "metadata": {},
   "outputs": [],
   "source": [
    "frame.groupby('label')['next_page_id'].count()"
   ]
  },
  {
   "cell_type": "markdown",
   "id": "487a9787",
   "metadata": {},
   "source": [
    "##### Filling in the unprocessed info"
   ]
  },
  {
   "cell_type": "code",
   "execution_count": null,
   "id": "1c55b0a0",
   "metadata": {},
   "outputs": [],
   "source": [
    "frame_processed_messages = frame[frame['date'].notna()]\n",
    "joined_frame = frame.merge(frame_processed_messages, on='message_id', suffixes=(\"_global\", \"_processed\"))\n",
    "columns_required = [\"message_id\", \"sender_processed\", \"receiver_processed\",\n",
    "                    \"date_processed\", \"subject_processed\", \"label_global\"]\n",
    "frame_with_info = joined_frame[columns_required]\n",
    "rename_columns = [\"message_id\", \"sender\", \"receiver\",\n",
    "                  \"date\", \"subject\", \"label\"]\n",
    "frame_with_info.columns = rename_columns\n",
    "frame_with_info.head(10)"
   ]
  },
  {
   "cell_type": "code",
   "execution_count": null,
   "id": "4a0334c0",
   "metadata": {},
   "outputs": [],
   "source": [
    "def extract_date(x):\n",
    "    \"\"\"\n",
    "    Function to Extract the Dates from two different date strings\n",
    "    So that pd.to_datetime will be able to parse it\n",
    "    \"\"\"\n",
    "    regex = r\"\\d+ \\D{3} \\d+ \\d{2}:\\d{2}:\\d{2}|\\D{3}, \\d+ \\D{3} \\d+ \\d+:\\d+:\\d+\"\n",
    "    found = re.findall(regex, str(x))\n",
    "    if found:\n",
    "        return found[0]\n",
    "    else:\n",
    "        return np.nan\n",
    "    \n",
    "frame_with_info['clean_date'] = frame_with_info['date'].map(extract_date)"
   ]
  },
  {
   "cell_type": "code",
   "execution_count": null,
   "id": "24a97152",
   "metadata": {
    "scrolled": true
   },
   "outputs": [],
   "source": [
    "pd.set_option('display.max_rows', 500)\n",
    "frame_with_info[frame_with_info['clean_date'].isna() & frame_with_info['date'].notna()]"
   ]
  },
  {
   "cell_type": "code",
   "execution_count": null,
   "id": "506a97a1",
   "metadata": {},
   "outputs": [],
   "source": [
    "frame_with_info['_date'] = pd.to_datetime(frame_with_info['clean_date'])\n",
    "frame_with_info['only_date'] = frame_with_info['_date'].dt.strftime('%Y-%m-%d')\n",
    "frame_with_info.head(10)"
   ]
  },
  {
   "cell_type": "markdown",
   "id": "fc2ba159",
   "metadata": {},
   "source": [
    "##### Extracting the sender_email, sender_name and domain from sender information"
   ]
  },
  {
   "cell_type": "code",
   "execution_count": null,
   "id": "d785e18a",
   "metadata": {
    "scrolled": true
   },
   "outputs": [],
   "source": [
    "frame_with_info['sender_email'] = frame_with_info['sender'].str.extract(\"([\\w\\.\\=\\-]+@[\\w\\-\\.]+)\")\n",
    "frame_with_info['sender_name'] = frame_with_info['sender'].apply(lambda x: re.findall(r\"([\\s|\\w|\\W]+ )(<)\", str(x))[0][0] \\\n",
    "                                if len(re.findall(r\"([\\s|\\w|\\W]+ )(<)\", str(x))) else str(x))\n",
    "frame_with_info['domain'] = frame_with_info['sender'].apply(lambda x: re.findall(r\"(@)([\\w|\\.\\-]+)\", str(x))[0][1] \\\n",
    "                                if len(re.findall(r\"(@)([\\w|\\.\\-]+)\", str(x))) else str(x))\n",
    "frame_with_info.head(10)"
   ]
  },
  {
   "cell_type": "markdown",
   "id": "0844fef7",
   "metadata": {},
   "source": [
    "##### Let's do a group concat on label"
   ]
  },
  {
   "cell_type": "code",
   "execution_count": null,
   "id": "2d9d0260",
   "metadata": {},
   "outputs": [],
   "source": [
    "grouped_info = frame_with_info.groupby([\"message_id\",\"sender_email\", \"sender_name\", \"domain\",\"subject\", \"only_date\"]).\\\n",
    "apply(lambda x: \",\".join(x.label))\n",
    "grouped_info = grouped_info.to_frame()\n",
    "grouped_info.reset_index(inplace=True)\n",
    "grouped_info.head(10)"
   ]
  },
  {
   "cell_type": "markdown",
   "id": "6895b5f0",
   "metadata": {},
   "source": [
    "##### Plotting the pie chart for top 10 domains"
   ]
  },
  {
   "cell_type": "code",
   "execution_count": null,
   "id": "7200a8f7",
   "metadata": {},
   "outputs": [],
   "source": [
    "grouped_domain_info = grouped_info.groupby(['domain'])['domain'].count()\\\n",
    "                     .reset_index(name='count')\\\n",
    "                     .sort_values(by='count', ascending=False).head(10)\n",
    "plt.pie(grouped_domain_info[\"count\"], labels = grouped_domain_info[\"domain\"], radius=2.5)\n"
   ]
  },
  {
   "cell_type": "markdown",
   "id": "94c431de",
   "metadata": {},
   "source": [
    "##### Finding the frequency based on months and year"
   ]
  },
  {
   "cell_type": "code",
   "execution_count": null,
   "id": "37297ea7",
   "metadata": {},
   "outputs": [],
   "source": [
    "grouped_info['_date'] = pd.to_datetime(grouped_info['only_date'], format='%Y-%m-%d')\n",
    "grouped_info['year_month'] = grouped_info['_date'].dt.strftime(\"%Y-%m\")\n",
    "grouped_info['year'] = grouped_info['_date'].dt.strftime(\"%Y\")\n",
    "grouped_info['month'] = grouped_info['_date'].dt.strftime(\"%m\")\n",
    "grouped_year_month_info = grouped_info.groupby(['year', 'month'])['message_id'].count()\\\n",
    "                     .reset_index(name='count')\\\n",
    "                     .sort_values(by=['year','month']).head(200)\n",
    "grouped_year_month_info.head(10)"
   ]
  },
  {
   "cell_type": "markdown",
   "id": "a6fb3e57",
   "metadata": {},
   "source": [
    "##### Creating the Pivot before plotting"
   ]
  },
  {
   "cell_type": "code",
   "execution_count": null,
   "id": "82c75f3f",
   "metadata": {},
   "outputs": [],
   "source": [
    "table = pd.pivot_table(grouped_year_month_info, values='count', index=['month'],\n",
    "                    columns=['year'], aggfunc=np.sum)\n",
    "df = pd.DataFrame(table.to_records())\n",
    "df"
   ]
  },
  {
   "cell_type": "code",
   "execution_count": null,
   "id": "03c07c13",
   "metadata": {},
   "outputs": [],
   "source": [
    "df.columns = [header for header in df.columns]\n",
    "df.set_index('month', inplace=True)\n",
    "df.fillna(0)\n",
    "df.plot.bar(figsize=(17,8), rot=0, width=0.8)"
   ]
  }
 ],
 "metadata": {
  "kernelspec": {
   "display_name": "Python 3 (ipykernel)",
   "language": "python",
   "name": "python3"
  },
  "language_info": {
   "codemirror_mode": {
    "name": "ipython",
    "version": 3
   },
   "file_extension": ".py",
   "mimetype": "text/x-python",
   "name": "python",
   "nbconvert_exporter": "python",
   "pygments_lexer": "ipython3",
   "version": "3.8.10"
  }
 },
 "nbformat": 4,
 "nbformat_minor": 5
}
